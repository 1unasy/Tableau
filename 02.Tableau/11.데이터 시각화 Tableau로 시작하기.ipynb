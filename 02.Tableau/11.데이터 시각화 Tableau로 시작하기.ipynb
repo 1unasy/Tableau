{
 "cells": [
  {
   "cell_type": "markdown",
   "id": "c42d14f7",
   "metadata": {},
   "source": [
    "# < 태블로 알아보기 >"
   ]
  },
  {
   "cell_type": "markdown",
   "id": "9a4b2289",
   "metadata": {},
   "source": [
    "### @ 태블로를 쓰는 이유"
   ]
  },
  {
   "cell_type": "markdown",
   "id": "53cdcc7d",
   "metadata": {},
   "source": [
    "- 태블로 탄생 목적 \n",
    "    - Visual Analysis\n",
    "    - See and understand data (취지)\n",
    "\n",
    "- 장점\n",
    "    - No code\n",
    "    - Interactivity\n",
    "    - Speed\n",
    "    - Visual Technology\n",
    "    - Community\n",
    "        - Tableau Public / MakeoverMonday / TableauTipTuesday / WorkoutWednesday / Sports Viz Sundays / PreppinData / Viz for Social Good / ProjectHealthviz"
   ]
  },
  {
   "cell_type": "markdown",
   "id": "f59c4313",
   "metadata": {},
   "source": [
    "### @ 태블로 제품군"
   ]
  },
  {
   "cell_type": "markdown",
   "id": "324ee9fc",
   "metadata": {},
   "source": [
    "1. 데이터 전처리\n",
    "    - Tableau **Prep**\n",
    "        - 데이터 전처리 워크플로우 설계\n",
    "    \n",
    "    \n",
    "2. 데이터 시각화\n",
    "    - Tableau **Desktop**\n",
    "        - Professional ver.\n",
    "        - Public ver.\n",
    "        \n",
    "        \n",
    "3. 파일 읽기\n",
    "    - Tableau **Reader**\n",
    "    \n",
    "    \n",
    "4. 파일 업로드\n",
    "    - Tableau **Server**\n",
    "    - Tableau **Online**\n",
    "        - 조직 내 대시보드 배포 및 관리\n",
    "    - Tableau **Public**\n",
    "        - 온라인 대시보드 갤러리 커뮤니티 (Tableau Desktop의 무료버전)\n",
    "        - Tableau Desktop처럼 비주얼리제이션을 만들고 게시할 수 있지만 pc 로컬 저장과 데이터 새로 고침은 제한된다.\n",
    "        \n",
    "5. Pricing Model\n",
    "    01. Creator\n",
    "    - Tableau Desktop\n",
    "    - Tableau Prep\n",
    "    - Tableau Server\n",
    "        - 파워 유저를 위한 라이센스\n",
    "    \n",
    "    02. Explorer\n",
    "    - Tableau Server\n",
    "        - 상호작용하는 유저를 위한 라이센스\n",
    "    \n",
    "    03. Viewer\n",
    "    - Tableau Server\n",
    "        - 보는 것만 가능한 라이센스"
   ]
  },
  {
   "cell_type": "markdown",
   "id": "9ab7d5a3",
   "metadata": {},
   "source": [
    "#### Tableau Product 에코시스템\n",
    "- 기간별 ▷ 데이터 수집 ▷ 데이터베이스 ▷ 데이터 전처리 ▷ 분석가 ▷ 탐색 ▷ 인사이트 ▷ 액션 아이템\n",
    "\n",
    "1. 데이터 저장\n",
    "- DATABASE ▷ TDS, TDE/HYPER\n",
    "2. 데이터 전처리\n",
    "- DATA ▷ TABLEAU PREP\n",
    "3. 분석\n",
    "- TABLEAU DESKTOP\n",
    "4. 공유\n",
    "- TABLEAU SERVER, TABLEAU MOBILE, TABLEAU API, TABLEAU READER"
   ]
  },
  {
   "cell_type": "markdown",
   "id": "fc1e8998",
   "metadata": {},
   "source": [
    "### @ 태블로 공부법"
   ]
  },
  {
   "cell_type": "markdown",
   "id": "2342c953",
   "metadata": {},
   "source": [
    "1. 태블로 공식 홈페이지 도움말 / 자습서 / 교육 동영상 / 백과\n",
    "2. 인터넷 강의 & 책\n",
    "    - Udemy / Coursera 태블로 강좌들\n",
    "    - 스티브 웩슬러 책과 O'Reilly 책들\n",
    "        - ex) 대시보드 설계와 데이터 시각화 / Practical Tableau / Communicating Data with Tableau\n",
    "3. 커뮤니티\n",
    "    - Tableau Reference Guide (참고 자료 모음집)\n",
    "    - Datafam (트위터, 링크드인)\n",
    "4. 연습하기 (커뮤니티 미션)\n",
    "    - Makeover Monday\n",
    "    - Real World Fake Data\n",
    "    - Workout Wednesday\n",
    "5. Tableau Public\n",
    "    - 대시보드 다운로드 받아서 다른 사람의 view를 따라해보기"
   ]
  }
 ],
 "metadata": {
  "kernelspec": {
   "display_name": "Python 3",
   "language": "python",
   "name": "python3"
  },
  "language_info": {
   "codemirror_mode": {
    "name": "ipython",
    "version": 3
   },
   "file_extension": ".py",
   "mimetype": "text/x-python",
   "name": "python",
   "nbconvert_exporter": "python",
   "pygments_lexer": "ipython3",
   "version": "3.8.8"
  }
 },
 "nbformat": 4,
 "nbformat_minor": 5
}
