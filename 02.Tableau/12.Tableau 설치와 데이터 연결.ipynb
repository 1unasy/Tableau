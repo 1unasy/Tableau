{
 "cells": [
  {
   "cell_type": "markdown",
   "id": "96029a2b",
   "metadata": {},
   "source": [
    "## 파일 데이터 연결하기\n",
    "#### 파일 데이터를 연결하는 경우?\n",
    "    - 데이터가 자주 업데이트 되지 않는 경우\n",
    "    - 일회성 Ad-hoc 분석을 하는 경우\n",
    "#### 파일 데이터의 종류\n",
    "    - Excel\n",
    "    - Text (csv, txt)\n",
    "    - JSON\n",
    "    - PDF\n",
    "    - Spatial (shp file)\n",
    "    - Statistical (SAS, SPSS, R)\n",
    "    - 저장된 데이터 원본\n",
    "    - Hyper, TDE"
   ]
  },
  {
   "cell_type": "markdown",
   "id": "c808f7c1",
   "metadata": {},
   "source": [
    "## 서버 데이터 연결하기\n",
    "#### 서버 데이터를 연결하는 경우?\n",
    "    - 실시간 대시보드를 만드는 경우\n",
    "    - 데이터 업데이트와 스키마 변경이 빈번할 때\n",
    "    - 보안이 중요한 데이터 (권한이 있어야만 접근 가능한 데이터)\n",
    "#### 파일 데이터의 종류\n",
    "    - Tableau Server\n",
    "    - MySQL\n",
    "    - Google BigQuery\n",
    "    - Google Spreadsheet\n",
    "    - Salesfore\n",
    "    - Amazon Redshift\n",
    "    - Cloudera Hadoop"
   ]
  }
 ],
 "metadata": {
  "kernelspec": {
   "display_name": "Python 3",
   "language": "python",
   "name": "python3"
  },
  "language_info": {
   "codemirror_mode": {
    "name": "ipython",
    "version": 3
   },
   "file_extension": ".py",
   "mimetype": "text/x-python",
   "name": "python",
   "nbconvert_exporter": "python",
   "pygments_lexer": "ipython3",
   "version": "3.8.8"
  }
 },
 "nbformat": 4,
 "nbformat_minor": 5
}
