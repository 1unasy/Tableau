{
 "cells": [
  {
   "cell_type": "markdown",
   "id": "7f53a0f8",
   "metadata": {},
   "source": [
    "# 태블로 용어 & 베이직 실습"
   ]
  },
  {
   "cell_type": "markdown",
   "id": "38448f3f",
   "metadata": {},
   "source": [
    "### 데이터 관계\n",
    "- 데이터 분석을 위해 **여러 테이블에서 데이터를 결합**하는 방법\n",
    "    - 조인 유형 선택할 필요 X\n",
    "    - 분석 중에 사용되는 필드를 기반으로 적절한 조인을 자동으로 만듦\n",
    "    - 조인과 달리 단일 테이블로 병합되지 않고 각 테이블을 유지하기 때문에 집계 값이 중복되지 않음"
   ]
  },
  {
   "cell_type": "markdown",
   "id": "bec85f26",
   "metadata": {},
   "source": [
    "### 데이터 원본 창\n",
    "- 데이터 원본 새로 고침\n",
    "    - 데이터 메뉴 > 새로 고침 > 업데이트 가능\n",
    "        - 라이브 연결: 데이터베이스에 쿼리 보내고 결과에 따라 뷰 업데이트\n",
    "        - 추출: 성능을 향상시키기 위해 데이터를 로컬로 저장 (오프라인)"
   ]
  },
  {
   "cell_type": "markdown",
   "id": "ee823712",
   "metadata": {},
   "source": [
    "#### 계층을 쓰면 좋은 이유\n",
    "1. +/- 버튼으로 뷰의 세부 수준을 쉽게 바꿀 수 있음\n",
    "2. 필터링을 할 때 상위 계층을 선택하면 **거기에 해당하는 하위 카테고리만 필터링** 가능\n",
    "(예: 시도 필터에서 \"서울시\" 선택 > 시군구 필터에서는 서울시 내의 구만 보임)"
   ]
  },
  {
   "cell_type": "markdown",
   "id": "cc841d91",
   "metadata": {},
   "source": [
    "#### 필드 복사하기 팁\n",
    "- Ctrl(윈도우) or cmd(맥) 키를 잡고 드래그 하면 해당 필드가 복사된다!\n",
    "- 굳이 데이터 패널에서 한번 더 끌고 올 필요 없음!"
   ]
  }
 ],
 "metadata": {
  "kernelspec": {
   "display_name": "Python 3",
   "language": "python",
   "name": "python3"
  },
  "language_info": {
   "codemirror_mode": {
    "name": "ipython",
    "version": 3
   },
   "file_extension": ".py",
   "mimetype": "text/x-python",
   "name": "python",
   "nbconvert_exporter": "python",
   "pygments_lexer": "ipython3",
   "version": "3.8.8"
  }
 },
 "nbformat": 4,
 "nbformat_minor": 5
}
